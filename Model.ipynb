{
 "cells": [
  {
   "cell_type": "code",
   "execution_count": 1,
   "metadata": {},
   "outputs": [
    {
     "name": "stderr",
     "output_type": "stream",
     "text": [
      "c:\\Users\\Asus\\AppData\\Local\\Programs\\Python\\Python311\\Lib\\site-packages\\pulp\\pulp.py:1352: UserWarning: Spaces are not permitted in the name. Converted to '_'\n",
      "  warnings.warn(\"Spaces are not permitted in the name. Converted to '_'\")\n"
     ]
    },
    {
     "name": "stdout",
     "output_type": "stream",
     "text": [
      "Status:  Optimal\n",
      "Banyaknya_Kelapa_Sawit_Yang_di_Kirim_dari_GudangSKGE_Air_Hitam = 30.0\n",
      "Banyaknya_Kelapa_Sawit_Yang_di_Kirim_dari_GudangSKGE_Muko_Muko = 120.0\n",
      "Banyaknya_Kelapa_Sawit_Yang_di_Kirim_dari_GudangTPE_Air_Bikuk = 190.0\n",
      "Banyaknya_Kelapa_Sawit_Yang_di_Kirim_dari_GudangTPE_Bunga_Tanjung = 60.0\n",
      "Banyaknya_Kelapa_Sawit_Yang_di_Kirim_dari_GudangTRE_Air_Hitam = 90.0\n",
      "Banyaknya_Kelapa_Sawit_Yang_di_Kirim_dari_GudangTRE_Bunga_Tanjung = 110.0\n",
      "Biaya Minimum :  359590.0\n"
     ]
    }
   ],
   "source": [
    "from pulp import *\n",
    "\n",
    "# Inisialisasi Model\n",
    "Model = LpProblem('Nilai Minimum', LpMinimize) # Nilai Minimum = Nilai Parameter ; LpMinimize = Konstanta yang menunjukan masalah\n",
    "\n",
    "# List Gudang\n",
    "Gudang = ['GudangTPE','GudangSKGE','GudangTRE']\n",
    "\n",
    "# List Pabrik Tujuan\n",
    "Pabrik = ['Muko-Muko','Bunga Tanjung','Air Bikuk','Air Hitam']\n",
    "\n",
    "# Kapasitas Gudang\n",
    "Kapasitas = {'GudangTPE':250,\n",
    "             'GudangSKGE':150,\n",
    "             'GudangTRE':200}\n",
    "\n",
    "# Permintaan Pabrik\n",
    "Permintaan = {'Muko-Muko':120,\n",
    "              'Bunga Tanjung':170,\n",
    "              'Air Bikuk':190,\n",
    "              'Air Hitam':120}\n",
    "\n",
    "# Biaya pengiriman\n",
    "Biaya = {'GudangTPE':{'Muko-Muko':728,'Bunga Tanjung':680,'Air Bikuk':823,'Air Hitam':919},\n",
    "         'GudangSKGE':{'Muko-Muko':490,'Bunga Tanjung':442,'Air Bikuk':585,'Air Hitam':680},\n",
    "         'GudangTRE':{'Muko-Muko':357,'Bunga Tanjung':309,'Air Bikuk':452,'Air Hitam':547}}\n",
    "\n",
    "# Kemungkinan Rute\n",
    "Rute = [(i,j) for i in Gudang for j in Pabrik]\n",
    "\n",
    "# Model Matematika dengan Definisikan kelas Variable (var)\n",
    "var = LpVariable.dicts('Banyaknya Kelapa Sawit Yang di Kirim dari',(Gudang,Pabrik),0,cat=LpInteger)\n",
    "\n",
    "# Fungsi Objektif\n",
    "Model += lpSum(var[i][j] * Biaya[i][j] for (i,j) in Rute)\n",
    "\n",
    "# Fungsi kendala\n",
    "for j in Pabrik :\n",
    "  Model += lpSum(var[i][j] for i in Gudang) == Permintaan[j]\n",
    "\n",
    "for i in Gudang :\n",
    "  Model += lpSum(var[i][j] for j in Pabrik) == Kapasitas[i]\n",
    "\n",
    "# Penyelesaian dengan Method solve\n",
    "Model.solve()\n",
    "\n",
    "# Tampilkan Status ke Layar\n",
    "print('Status: ', LpStatus[Model.status])\n",
    "\n",
    "# Tampilkan Solusi ke Layar\n",
    "for v in Model.variables():\n",
    "  if v.varValue > 0 :\n",
    "    print(v.name,'=',v.varValue)\n",
    "\n",
    "# Tampilkan Biaya Minimum ke Layar\n",
    "print('Biaya Minimum : ', value(Model.objective))"
   ]
  }
 ],
 "metadata": {
  "kernelspec": {
   "display_name": "Python 3",
   "language": "python",
   "name": "python3"
  },
  "language_info": {
   "codemirror_mode": {
    "name": "ipython",
    "version": 3
   },
   "file_extension": ".py",
   "mimetype": "text/x-python",
   "name": "python",
   "nbconvert_exporter": "python",
   "pygments_lexer": "ipython3",
   "version": "3.11.4"
  }
 },
 "nbformat": 4,
 "nbformat_minor": 2
}
